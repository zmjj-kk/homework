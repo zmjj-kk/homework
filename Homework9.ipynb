{
 "cells": [
  {
   "cell_type": "code",
   "execution_count": 3,
   "metadata": {},
   "outputs": [
    {
     "name": "stdout",
     "output_type": "stream",
     "text": [
      "RMSE: 31.568478635113294\n"
     ]
    }
   ],
   "source": [
    "import pandas as pd\n",
    "import numpy as np\n",
    "from sklearn.model_selection import train_test_split\n",
    "from sklearn.linear_model import LinearRegression\n",
    "from sklearn.preprocessing import MinMaxScaler\n",
    "from sklearn.metrics import mean_squared_error\n",
    "\n",
    "# 1. 读取数据\n",
    "file_path = r\"C:\\Users\\Lenovo\\Desktop\\数据导论\\bike.csv\"\n",
    "data = pd.read_csv(file_path)\n",
    "\n",
    "# 2. 剔除无用列 id\n",
    "data.drop(columns=[\"id\"], inplace=True)\n",
    "\n",
    "# 3. 筛选出上海市数据，剔除 city 列\n",
    "data = data[data['city'] == 1].drop(columns=[\"city\"])\n",
    "\n",
    "# 4. 处理 hour 列：6点-18点统一为1；19点-次日5点统一为0\n",
    "data['hour'] = data['hour'].apply(lambda x: 1 if 6 <= x <= 18 else 0)\n",
    "\n",
    "# 5. 提取 y 列为标签并转换为 numpy 列向量\n",
    "y = data['y'].values.reshape(-1, 1)\n",
    "data.drop(columns=['y'], inplace=True)\n",
    "\n",
    "# 6. 将 DataFrame 转换为 Numpy 数组\n",
    "X = data.values\n",
    "\n",
    "# 7. 按 8:2 比例划分训练集和测试集\n",
    "X_train, X_test, y_train, y_test = train_test_split(X, y, test_size=0.2, random_state=42)\n",
    "\n",
    "# 8. 数据归一化\n",
    "scaler_X = MinMaxScaler()\n",
    "scaler_y = MinMaxScaler()\n",
    "\n",
    "X_train = scaler_X.fit_transform(X_train)\n",
    "X_test = scaler_X.transform(X_test)\n",
    "\n",
    "y_train = scaler_y.fit_transform(y_train)\n",
    "y_test = scaler_y.transform(y_test)\n",
    "\n",
    "# 9. 构建线性回归模型并训练\n",
    "model = LinearRegression()\n",
    "model.fit(X_train, y_train)\n",
    "\n",
    "# 10. 模型预测与评估\n",
    "y_pred = model.predict(X_test)\n",
    "\n",
    "# 反归一化预测值与真实值\n",
    "y_pred_actual = scaler_y.inverse_transform(y_pred)\n",
    "y_test_actual = scaler_y.inverse_transform(y_test)\n",
    "\n",
    "# 计算 RMSE\n",
    "rmse = np.sqrt(mean_squared_error(y_test_actual, y_pred_actual))\n",
    "print(f\"RMSE: {rmse}\")\n",
    "\n"
   ]
  }
 ],
 "metadata": {
  "kernelspec": {
   "display_name": "Python (myenv)",
   "language": "python",
   "name": "myenv"
  },
  "language_info": {
   "codemirror_mode": {
    "name": "ipython",
    "version": 3
   },
   "file_extension": ".py",
   "mimetype": "text/x-python",
   "name": "python",
   "nbconvert_exporter": "python",
   "pygments_lexer": "ipython3",
   "version": "3.8.20"
  }
 },
 "nbformat": 4,
 "nbformat_minor": 2
}
