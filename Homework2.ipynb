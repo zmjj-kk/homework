{
 "cells": [
  {
   "cell_type": "code",
   "execution_count": 5,
   "metadata": {},
   "outputs": [
    {
     "name": "stdout",
     "output_type": "stream",
     "text": [
      "8 和 12 的最大公约数是: 4\n"
     ]
    }
   ],
   "source": [
    "def gcd(a, b):\n",
    "    while b:\n",
    "        a, b = b, a % b\n",
    "    return a\n",
    "\n",
    "# 输入两个正整数\n",
    "num1 = int(input(\"请输入第一个正整数: \"))\n",
    "num2 = int(input(\"请输入第二个正整数: \"))\n",
    "\n",
    "# 计算最大公约数\n",
    "result = gcd(num1, num2)\n",
    "\n",
    "# 输出结果\n",
    "print(f\"{num1} 和 {num2} 的最大公约数是: {result}\")\n"
   ]
  },
  {
   "cell_type": "code",
   "execution_count": 6,
   "metadata": {},
   "outputs": [
    {
     "name": "stdout",
     "output_type": "stream",
     "text": [
      "良好\n"
     ]
    }
   ],
   "source": [
    "\n",
    "a = int(input('请输入成绩：'))\n",
    "if a < 60:\n",
    "    print(\"不合格\")\n",
    "elif 60 <= a <= 74:\n",
    "    print(\"合格\")\n",
    "elif 75 <= a <= 89:\n",
    "    print(\"良好\")\n",
    "elif 90 <= a <= 100:\n",
    "    print(\"优秀\")\n",
    "else:\n",
    "    print(\"输入的成绩不在有效范围内\")\n"
   ]
  },
  {
   "cell_type": "code",
   "execution_count": 8,
   "metadata": {},
   "outputs": [
    {
     "name": "stdout",
     "output_type": "stream",
     "text": [
      "10.44 的二进制表示是: 1010.0111000010\n"
     ]
    }
   ],
   "source": [
    "def decimal_to_binary(num):\n",
    "    # 分离整数部分和小数部分\n",
    "    integer_part = int(num)\n",
    "    fractional_part = num - integer_part\n",
    "\n",
    "    # 转换整数部分\n",
    "    binary_integer = ''\n",
    "    if integer_part == 0:\n",
    "        binary_integer = '0'\n",
    "    else:\n",
    "        while integer_part > 0:\n",
    "            binary_integer = str(integer_part % 2) + binary_integer\n",
    "            integer_part //= 2\n",
    "\n",
    "    # 转换小数部分\n",
    "    binary_fractional = ''\n",
    "    while fractional_part > 0 and len(binary_fractional) < 10:  # 限制小数部分长度\n",
    "        fractional_part *= 2\n",
    "        bit = int(fractional_part)\n",
    "        binary_fractional += str(bit)\n",
    "        fractional_part -= bit\n",
    "\n",
    "    return binary_integer + '.' + binary_fractional\n",
    "\n",
    "# 输入十进制小数\n",
    "num = float(input(\"请输入十进制小数：\"))\n",
    "# 进行转换\n",
    "binary_result = decimal_to_binary(num)\n",
    "# 输出结果\n",
    "print(f\"{num} 的二进制表示是: {binary_result}\")\n",
    "\n"
   ]
  },
  {
   "cell_type": "code",
   "execution_count": 9,
   "metadata": {},
   "outputs": [
    {
     "name": "stdout",
     "output_type": "stream",
     "text": [
      "产生的随机浮点数是: 11.00499978475123\n",
      "产生的随机浮点数是: 15.74839131890732\n",
      "产生的随机浮点数是: 10.15359804591737\n",
      "产生的随机浮点数是: 14.50869199086918\n",
      "产生的随机浮点数是: 18.87137567762116\n"
     ]
    }
   ],
   "source": [
    "import random\n",
    "\n",
    "# 生成5个10到20之间的随机浮点数\n",
    "for _ in range(5):\n",
    "    random_float = random.uniform(10, 20)\n",
    "    print(f\"产生的随机浮点数是: {random_float}\")\n"
   ]
  },
  {
   "cell_type": "code",
   "execution_count": 10,
   "metadata": {},
   "outputs": [
    {
     "name": "stdout",
     "output_type": "stream",
     "text": [
      "斐波那契数列的前 9 项是: [0, 1, 1, 2, 3, 5, 8, 13, 21]\n"
     ]
    }
   ],
   "source": [
    "def fibonacci(n):\n",
    "    # 初始化斐波那契数列的前两个数\n",
    "    fib_list = []\n",
    "    \n",
    "    if n <= 0:\n",
    "        return fib_list  # 如果 n 为 0 或负数，返回空列表\n",
    "    elif n == 1:\n",
    "        return [0]  # 返回只有第一个数的列表\n",
    "    elif n == 2:\n",
    "        return [0, 1]  # 返回前两个数的列表\n",
    "\n",
    "    # 添加前两个数\n",
    "    fib_list.extend([0, 1])\n",
    "\n",
    "    # 生成剩余的斐波那契数\n",
    "    for i in range(2, n):\n",
    "        next_fib = fib_list[i-1] + fib_list[i-2]  # 当前数是前两个数的和\n",
    "        fib_list.append(next_fib)\n",
    "\n",
    "    return fib_list\n",
    "\n",
    "# 测试函数\n",
    "n = int(input(\"请输入想要生成的斐波那契数列的项数 N：\"))\n",
    "result = fibonacci(n)\n",
    "print(f\"斐波那契数列的前 {n} 项是: {result}\")\n"
   ]
  },
  {
   "cell_type": "code",
   "execution_count": 11,
   "metadata": {},
   "outputs": [
    {
     "name": "stdout",
     "output_type": "stream",
     "text": [
      "数组中的第二大的数是: 12\n"
     ]
    }
   ],
   "source": [
    "def second_largest(nums):\n",
    "    if len(nums) < 2:\n",
    "        return -1  # 数组为空或只有一个元素，返回 -1\n",
    "    \n",
    "    # 使用集合去重，然后转换为列表\n",
    "    unique_nums = list(set(nums))\n",
    "    \n",
    "    if len(unique_nums) < 2:\n",
    "        return -1  # 如果去重后仍只有一个元素，返回 -1\n",
    "    \n",
    "    # 排序并返回第二大的数\n",
    "    unique_nums.sort()\n",
    "    return unique_nums[-2]  # 返回倒数第二个元素\n",
    "\n",
    "# 测试函数\n",
    "arr = [int(x) for x in input(\"请输入整数数组（用空格分隔）：\").split()]\n",
    "result = second_largest(arr)\n",
    "if result == -1:\n",
    "    print(\"数组为空或没有第二大的数。\")\n",
    "else:\n",
    "    print(f\"数组中的第二大的数是: {result}\")\n"
   ]
  },
  {
   "cell_type": "code",
   "execution_count": 12,
   "metadata": {},
   "outputs": [
    {
     "name": "stdout",
     "output_type": "stream",
     "text": [
      "身份证号合法。\n"
     ]
    }
   ],
   "source": [
    "import re\n",
    "\n",
    "def validate_id_card(id_card):\n",
    "    # 正则表达式模式\n",
    "    pattern = r'^[1-9]\\d{5}(19|20)\\d{2}(0[1-9]|1[0-2])(0[1-9]|[12]\\d|3[01])\\d{3}[0-9X]$'\n",
    "    \n",
    "    # 使用re.match来验证身份证号\n",
    "    if re.match(pattern, id_card):\n",
    "        return True  # 合法\n",
    "    else:\n",
    "        return False  # 不合法\n",
    "\n",
    "# 测试函数\n",
    "id_card = input(\"请输入身份证号：\")\n",
    "if validate_id_card(id_card):\n",
    "    print(\"身份证号合法。\")\n",
    "else:\n",
    "    print(\"身份证号不合法。\")\n"
   ]
  }
 ],
 "metadata": {
  "kernelspec": {
   "display_name": "Python 3",
   "language": "python",
   "name": "python3"
  },
  "language_info": {
   "codemirror_mode": {
    "name": "ipython",
    "version": 3
   },
   "file_extension": ".py",
   "mimetype": "text/x-python",
   "name": "python",
   "nbconvert_exporter": "python",
   "pygments_lexer": "ipython3",
   "version": "3.8.9"
  }
 },
 "nbformat": 4,
 "nbformat_minor": 2
}
