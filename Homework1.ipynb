{
 "cells": [
  {
   "cell_type": "code",
   "execution_count": 2,
   "metadata": {},
   "outputs": [
    {
     "name": "stdout",
     "output_type": "stream",
     "text": [
      "★ 数据科学与工程导论 ★\n"
     ]
    }
   ],
   "source": [
    "print(chr(0x2605) + \" 数据科学与工程导论 \" + chr(0x2605))\n"
   ]
  },
  {
   "cell_type": "code",
   "execution_count": 4,
   "metadata": {},
   "outputs": [
    {
     "name": "stdout",
     "output_type": "stream",
     "text": [
      "从小到大的顺序: [4.0, 5.0, 6.0]\n"
     ]
    }
   ],
   "source": [
    "x = float(input(\"请输入第一个数: \"))\n",
    "y = float(input(\"请输入第二个数: \"))\n",
    "z = float(input(\"请输入第三个数: \"))\n",
    "\n",
    "numbers = sorted([x, y, z])\n",
    "print(\"从小到大的顺序:\", numbers)\n"
   ]
  },
  {
   "cell_type": "code",
   "execution_count": 5,
   "metadata": {},
   "outputs": [
    {
     "name": "stdout",
     "output_type": "stream",
     "text": [
      "从大到小的顺序: [9.0, 6.0, 5.0, 2.0]\n"
     ]
    }
   ],
   "source": [
    "w = float(input(\"请输入第一个数: \"))\n",
    "x = float(input(\"请输入第二个数: \"))\n",
    "y = float(input(\"请输入第三个数: \"))\n",
    "z = float(input(\"请输入第四个数: \"))\n",
    "\n",
    "numbers = sorted([w, x, y, z], reverse=True)\n",
    "print(\"从大到小的顺序:\", numbers)\n"
   ]
  },
  {
   "cell_type": "code",
   "execution_count": 6,
   "metadata": {},
   "outputs": [
    {
     "name": "stdout",
     "output_type": "stream",
     "text": [
      "1 3 5 7 9 11 13 15 17 19 21 23 25 27 29 31 33 35 37 39 41 43 45 47 49 51 53 55 57 59 61 63 65 67 69 71 73 75 77 79 81 83 85 87 89 91 93 95 97 99 "
     ]
    }
   ],
   "source": [
    "for i in range(1, 101, 2):\n",
    "    print(i, end=' ')\n"
   ]
  },
  {
   "cell_type": "code",
   "execution_count": 7,
   "metadata": {},
   "outputs": [
    {
     "name": "stdout",
     "output_type": "stream",
     "text": [
      "1到100的和是: 5050\n"
     ]
    }
   ],
   "source": [
    "total_sum = 0\n",
    "for i in range(1, 101):\n",
    "    total_sum += i\n",
    "print(\"1到100的和是:\", total_sum)\n"
   ]
  },
  {
   "cell_type": "code",
   "execution_count": 8,
   "metadata": {},
   "outputs": [
    {
     "name": "stdout",
     "output_type": "stream",
     "text": [
      "for循环倒序: [5, 4, 3, 2, 1]\n",
      "while循环倒序: [5, 4, 3, 2, 1]\n"
     ]
    }
   ],
   "source": [
    "\n",
    "L = [1, 2, 3, 4, 5]\n",
    "reverse_for = []\n",
    "for i in range(len(L) - 1, -1, -1):\n",
    "    reverse_for.append(L[i])\n",
    "print(\"for循环倒序:\", reverse_for)\n",
    "reverse_while = []\n",
    "index = len(L) - 1\n",
    "while index >= 0:\n",
    "    reverse_while.append(L[index])\n",
    "    index -= 1\n",
    "print(\"while循环倒序:\", reverse_while)\n"
   ]
  },
  {
   "cell_type": "code",
   "execution_count": 9,
   "metadata": {},
   "outputs": [
    {
     "name": "stdout",
     "output_type": "stream",
     "text": [
      "字符串包含两个或两个以上连续出现的相同字符。\n"
     ]
    }
   ],
   "source": [
    "def has_consecutive_chars(s):\n",
    "    for i in range(len(s) - 1):\n",
    "        if s[i] == s[i + 1]:\n",
    "            return True\n",
    "    return False\n",
    "\n",
    "string = input(\"请输入一个字符串: \")\n",
    "if has_consecutive_chars(string):\n",
    "    print(\"字符串包含两个或两个以上连续出现的相同字符。\")\n",
    "else:\n",
    "    print(\"字符串不包含这种字符。\")\n"
   ]
  },
  {
   "cell_type": "code",
   "execution_count": 10,
   "metadata": {},
   "outputs": [
    {
     "name": "stdout",
     "output_type": "stream",
     "text": [
      "去掉空格后的字符串: hvghjvjhvjhk\n"
     ]
    }
   ],
   "source": [
    "string = input(\"请输入一个字符串: \")\n",
    "result = string.replace(\" \", \"\")\n",
    "print(\"去掉空格后的字符串:\", result)\n"
   ]
  },
  {
   "cell_type": "code",
   "execution_count": 11,
   "metadata": {},
   "outputs": [
    {
     "name": "stdout",
     "output_type": "stream",
     "text": [
      "532.0的3次方根是: 8.102839020128613\n"
     ]
    }
   ],
   "source": [
    "def cube_root(n):\n",
    "    x = n\n",
    "    while True:\n",
    "        next_x = (2 * x + n / (x * x)) / 3\n",
    "        if abs(next_x - x) < 1e-6:  # 精度要求\n",
    "            break\n",
    "        x = next_x\n",
    "    return x\n",
    "\n",
    "n = float(input(\"请输入一个正数n: \"))\n",
    "print(f\"{n}的3次方根是: {cube_root(n)}\")\n"
   ]
  },
  {
   "cell_type": "code",
   "execution_count": 12,
   "metadata": {},
   "outputs": [
    {
     "name": "stdout",
     "output_type": "stream",
     "text": [
      "4的阶乘是: 24\n"
     ]
    }
   ],
   "source": [
    "def factorial(n):\n",
    "    if n == 0 or n == 1:\n",
    "        return 1\n",
    "    result = 1\n",
    "    for i in range(2, n + 1):\n",
    "        result *= i\n",
    "    return result\n",
    "\n",
    "n = int(input(\"请输入一个正整数n: \"))\n",
    "print(f\"{n}的阶乘是: {factorial(n)}\")\n"
   ]
  }
 ],
 "metadata": {
  "kernelspec": {
   "display_name": "Python 3",
   "language": "python",
   "name": "python3"
  },
  "language_info": {
   "codemirror_mode": {
    "name": "ipython",
    "version": 3
   },
   "file_extension": ".py",
   "mimetype": "text/x-python",
   "name": "python",
   "nbconvert_exporter": "python",
   "pygments_lexer": "ipython3",
   "version": "3.8.9"
  }
 },
 "nbformat": 4,
 "nbformat_minor": 2
}
