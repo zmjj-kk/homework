{
 "cells": [
  {
   "cell_type": "code",
   "execution_count": 1,
   "metadata": {},
   "outputs": [
    {
     "ename": "ValueError",
     "evalue": "invalid literal for int() with base 10: ''",
     "output_type": "error",
     "traceback": [
      "\u001b[1;31m---------------------------------------------------------------------------\u001b[0m",
      "\u001b[1;31mValueError\u001b[0m                                Traceback (most recent call last)",
      "Cell \u001b[1;32mIn[1], line 11\u001b[0m\n\u001b[0;32m      8\u001b[0m     \u001b[38;5;28;01mreturn\u001b[39;00m \u001b[38;5;28;01mTrue\u001b[39;00m\n\u001b[0;32m     10\u001b[0m \u001b[38;5;66;03m# 输入\u001b[39;00m\n\u001b[1;32m---> 11\u001b[0m a \u001b[38;5;241m=\u001b[39m \u001b[38;5;28;43mint\u001b[39;49m\u001b[43m(\u001b[49m\u001b[38;5;28;43minput\u001b[39;49m\u001b[43m(\u001b[49m\u001b[38;5;124;43m\"\u001b[39;49m\u001b[38;5;124;43m请输入一个整数: \u001b[39;49m\u001b[38;5;124;43m\"\u001b[39;49m\u001b[43m)\u001b[49m\u001b[43m)\u001b[49m\n\u001b[0;32m     13\u001b[0m \u001b[38;5;66;03m# 判断并输出结果\u001b[39;00m\n\u001b[0;32m     14\u001b[0m \u001b[38;5;28;01mif\u001b[39;00m is_prime(a):\n",
      "\u001b[1;31mValueError\u001b[0m: invalid literal for int() with base 10: ''"
     ]
    }
   ],
   "source": [
    "def is_prime(n):\n",
    "    \"\"\"判断一个数是否为质数\"\"\"\n",
    "    if n <= 1:\n",
    "        return False\n",
    "    for i in range(2, int(n**0.5) + 1):\n",
    "        if n % i == 0:\n",
    "            return False\n",
    "    return True\n",
    "\n",
    "# 输入\n",
    "a = int(input(\"请输入一个整数: \"))\n",
    "\n",
    "# 判断并输出结果\n",
    "if is_prime(a):\n",
    "    print(f\"{a} 是质数。\")\n",
    "else:\n",
    "    print(f\"{a} 不是质数。\")\n"
   ]
  },
  {
   "cell_type": "code",
   "execution_count": 4,
   "metadata": {},
   "outputs": [
    {
     "name": "stdout",
     "output_type": "stream",
     "text": [
      "原数组: [5, 2, 9, 1, 5, 6]\n",
      "排序后数组: [1, 2, 5, 5, 6, 9]\n"
     ]
    }
   ],
   "source": [
    "def insertion_sort(arr):\n",
    "    # 遍历数组，从第二个元素开始\n",
    "    for i in range(1, len(arr)):\n",
    "        key = arr[i]  # 取出当前元素\n",
    "        j = i - 1\n",
    "        \n",
    "        # 将当前元素与已排序部分的元素进行比较\n",
    "        while j >= 0 and arr[j] > key:\n",
    "            arr[j + 1] = arr[j]  # 移动元素\n",
    "            j -= 1\n",
    "        \n",
    "        # 将当前元素插入到合适的位置\n",
    "        arr[j + 1] = key\n",
    "\n",
    "# 示例用法\n",
    "arr = [5, 2, 9, 1, 5, 6]\n",
    "print(\"原数组:\", arr)\n",
    "insertion_sort(arr)\n",
    "print(\"排序后数组:\", arr)\n"
   ]
  },
  {
   "cell_type": "code",
   "execution_count": 6,
   "metadata": {},
   "outputs": [
    {
     "name": "stdout",
     "output_type": "stream",
     "text": [
      "原数组: [64, 25, 12, 22, 11]\n",
      "排序后数组: [11, 12, 22, 25, 64]\n"
     ]
    }
   ],
   "source": [
    "def selection_sort(arr):\n",
    "    n = len(arr)  # 获取数组长度\n",
    "    for i in range(n):  # 遍历数组\n",
    "        min_index = i  # 假设当前位置是最小值的索引\n",
    "        \n",
    "        # 遍历未排序部分以找到最小值\n",
    "        for e in range(i + 1, n):  # 从 i + 1 开始\n",
    "            if arr[e] < arr[min_index]:\n",
    "                min_index = e\n",
    "        \n",
    "        # 如果找到的最小值不是当前位置的值，则交换\n",
    "        if min_index != i:\n",
    "            arr[i], arr[min_index] = arr[min_index], arr[i]\n",
    "\n",
    "# 示例用法\n",
    "arr = [64, 25, 12, 22, 11]\n",
    "print(\"原数组:\", arr)\n",
    "selection_sort(arr)\n",
    "print(\"排序后数组:\", arr)\n"
   ]
  },
  {
   "cell_type": "code",
   "execution_count": 7,
   "metadata": {},
   "outputs": [],
   "source": [
    "def quicksort(arr):\n",
    "    if len(arr) <= 1:\n",
    "        return arr\n",
    "    \n",
    "    pivot = arr[len(arr) // 2]  # 选择中间元素作为基准\n",
    "    left = []  # 存放小于基准的元素\n",
    "    right = []  # 存放大于基准的元素\n",
    "    equal = []  # 存放等于基准的元素\n",
    "\n",
    "    for element in arr:\n",
    "        if element < pivot:\n",
    "            left.append(element)\n",
    "        elif element > pivot:\n",
    "            right.append(element)\n",
    "        else:\n",
    "            equal.append(element)\n",
    "\n",
    "    # 递归排序左侧和右侧，并合并\n",
    "    return quicksort(left) + equal + quicksort(right)\n"
   ]
  },
  {
   "cell_type": "code",
   "execution_count": null,
   "metadata": {},
   "outputs": [],
   "source": [
    "import random\n",
    "import time\n",
    "\n",
    "# 选择排序\n",
    "def selection_sort(arr):\n",
    "    n = len(arr)\n",
    "    for i in range(n):\n",
    "        min_index = i\n",
    "        for j in range(i + 1, n):\n",
    "            if arr[j] < arr[min_index]:\n",
    "                min_index = j\n",
    "        arr[i], arr[min_index] = arr[min_index], arr[i]\n",
    "\n",
    "# 归并排序\n",
    "def merge_sort(arr):\n",
    "    if len(arr) <= 1:\n",
    "        return arr\n",
    "    mid = len(arr) // 2\n",
    "    left = merge_sort(arr[:mid])\n",
    "    right = merge_sort(arr[mid:])\n",
    "    return merge(left, right)\n",
    "\n",
    "def merge(left, right):\n",
    "    sorted_array = []\n",
    "    while left and right:\n",
    "        if left[0] < right[0]:\n",
    "            sorted_array.append(left.pop(0))\n",
    "        else:\n",
    "            sorted_array.append(right.pop(0))\n",
    "    sorted_array.extend(left or right)\n",
    "    return sorted_array\n",
    "\n",
    "# 快速排序\n",
    "def quicksort(arr):\n",
    "    if len(arr) <= 1:\n",
    "        return arr\n",
    "    pivot = arr[len(arr) // 2]\n",
    "    left = [x for x in arr if x < pivot]\n",
    "    middle = [x for x in arr if x == pivot]\n",
    "    right = [x for x in arr if x > pivot]\n",
    "    return quicksort(left) + middle + quicksort(right)\n",
    "\n",
    "# 生成随机数列\n",
    "def generate_random_list(length):\n",
    "    return random.sample(range(length * 10), length)  # 生成不重复的随机数\n",
    "\n",
    "# 测试不同排序算法\n",
    "lengths = [100, 1000, 10000]\n",
    "for length in lengths:\n",
    "    random_list = generate_random_list(length)\n",
    "\n",
    "    # 选择排序\n",
    "    list_for_selection = random_list.copy()\n",
    "    start_time = time.time()\n",
    "    selection_sort(list_for_selection)\n",
    "    selection_time = time.time() - start_time\n",
    "    print(f\"选择排序 - 长度 {length}: {selection_time:.6f}秒\")\n",
    "\n",
    "    # 归并排序\n",
    "    list_for_merge = random_list.copy()\n",
    "    start_time = time.time()\n",
    "    sorted_list = merge_sort(list_for_merge)\n",
    "    merge_time = time.time() - start_time\n",
    "    print(f\"归并排序 - 长度 {length}: {merge_time:.6f}秒\")\n",
    "\n",
    "    # 快速排序\n",
    "    list_for_quick = random_list.copy()\n",
    "    start_time = time.time()\n",
    "    sorted_list = quicksort(list_for_quick)\n",
    "    quick_time = time.time() - start_time\n",
    "    print(f\"快速排序 - 长度 {length}: {quick_time:.6f}秒\")\n"
   ]
  },
  {
   "cell_type": "code",
   "execution_count": 8,
   "metadata": {},
   "outputs": [
    {
     "name": "stdout",
     "output_type": "stream",
     "text": [
      "当前系统时间: 2024-10-29 21:24:45.368078\n"
     ]
    }
   ],
   "source": [
    "from datetime import datetime\n",
    "\n",
    "# 获取当前系统时间\n",
    "current_time = datetime.now()\n",
    "\n",
    "# 打印当前时间\n",
    "print(\"当前系统时间:\", current_time)\n"
   ]
  },
  {
   "cell_type": "code",
   "execution_count": 6,
   "metadata": {},
   "outputs": [
    {
     "name": "stdout",
     "output_type": "stream",
     "text": [
      "语文平均成绩: 82.6\n",
      "数学平均成绩: 81.0\n",
      "英语平均成绩: 81.8\n",
      "信息已写入my.txt文件。\n"
     ]
    }
   ],
   "source": [
    "import csv\n",
    "import datetime\n",
    "import time\n",
    "\n",
    "# 读取CSV文件并计算平均成绩\n",
    "file_path = r\"C:\\Users\\Lenovo\\Desktop\\code\\stuGrade.csv\"\n",
    "\n",
    "with open(file_path, newline='', encoding='utf-8') as csvfile:\n",
    "    reader = csv.reader(csvfile)\n",
    "    header = next(reader)  # 跳过标题行\n",
    "\n",
    "    total_chinese = 0\n",
    "    total_math = 0\n",
    "    total_english = 0\n",
    "    count = 0\n",
    "\n",
    "    for row in reader:\n",
    "        total_chinese += float(row[1])\n",
    "        total_math += float(row[2])\n",
    "        total_english += float(row[3])\n",
    "        count += 1\n",
    "\n",
    "    avg_chinese = total_chinese / count\n",
    "    avg_math = total_math / count\n",
    "    avg_english = total_english / count\n",
    "\n",
    "# 保留2位小数\n",
    "avg_chinese = round(avg_chinese, 2)\n",
    "avg_math = round(avg_math, 2)\n",
    "avg_english = round(avg_english, 2)\n",
    "\n",
    "# 输出平均成绩\n",
    "print(f'语文平均成绩: {avg_chinese}')\n",
    "print(f'数学平均成绩: {avg_math}')\n",
    "print(f'英语平均成绩: {avg_english}')\n",
    "\n",
    "# 第二步：将内容写入my.txt文件\n",
    "my_id = \"10235304449\"  \n",
    "my_name = \"潘锐辰\"  \n",
    "current_time = datetime.datetime.now().strftime(\"%Y-%m-%d %H:%M:%S\")\n",
    "\n",
    "# 等待2秒以获取新时间\n",
    "time.sleep(2)\n",
    "future_time = datetime.datetime.now().strftime(\"%Y-%m-%d %H:%M:%S\")\n",
    "\n",
    "with open('my.txt', 'w', encoding='utf-8') as f:\n",
    "    f.write(f'{my_id} {my_name}\\n')\n",
    "    f.write(f'{avg_chinese}, {avg_math}, {avg_english}\\n')\n",
    "    f.write(f'{current_time}\\n')\n",
    "    f.write(f'{future_time}\\n')\n",
    "\n",
    "print(\"信息已写入my.txt文件。\")\n"
   ]
  }
 ],
 "metadata": {
  "kernelspec": {
   "display_name": "Python 3",
   "language": "python",
   "name": "python3"
  },
  "language_info": {
   "codemirror_mode": {
    "name": "ipython",
    "version": 3
   },
   "file_extension": ".py",
   "mimetype": "text/x-python",
   "name": "python",
   "nbconvert_exporter": "python",
   "pygments_lexer": "ipython3",
   "version": "3.8.9"
  }
 },
 "nbformat": 4,
 "nbformat_minor": 2
}
